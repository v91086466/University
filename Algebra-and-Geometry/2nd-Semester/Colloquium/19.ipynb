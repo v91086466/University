{
 "cells": [
  {
   "cell_type": "markdown",
   "metadata": {},
   "source": [
    "# 19. Образ и ядро линейного оператора"
   ]
  },
  {
   "cell_type": "markdown",
   "metadata": {},
   "source": [
    "Дать определения образа и ядра."
   ]
  },
  {
   "cell_type": "markdown",
   "metadata": {},
   "source": [
    "#### Примеры\n",
    "\n",
    "1. Для оператора дифференцирования $ \\text{im} \\space \\mathcal D = M_{n - 1}, \\space \\ker \\mathcal D = M_0 $\n",
    "2. Для оператора проектирование $ \\text{im} \\space \\mathcal P = L_1, \\space \\ker P = L_2 $\n",
    "3. Для оператора отражения $ \\text{im} \\space \\mathcal R = V, \\space \\ker R = \\{ \\theta \\} $"
   ]
  },
  {
   "cell_type": "markdown",
   "metadata": {},
   "source": [
    "### Теорема 80.1\n",
    "\n",
    "Если $ \\mathcal{A \\in L}(V, W) $, то $ \\ker \\mathcal A $ - п/п $ V $, а $ \\text{im} \\space \\mathcal A $ - п/п $ W $.\n",
    "\n",
    "### Доказательство\n",
    "\n",
    "Это проверяется из определения линейного подпространства."
   ]
  },
  {
   "cell_type": "markdown",
   "metadata": {},
   "source": [
    "Рангом линейного оператора называется размерность его образа, а дефектом - размерность ядра. Обозначения: $ \\text{rg} \\space \\mathcal A, \\text{def} \\space \\mathcal A $"
   ]
  },
  {
   "cell_type": "markdown",
   "metadata": {},
   "source": [
    "### Теоерма 80.2\n",
    "\n",
    "Если $ e_1, \\dots, e_n $ - базис пространства $ V $, то\n",
    "\n",
    "$$ \\text{im} \\space \\mathcal A = \\mathcal L (\\mathcal A e_1, \\dots, \\mathcal A e_n) $$\n",
    "\n",
    "### Доказательство\n",
    "\n",
    "Достаточно показать двустороннее вложение этих подпротсранств."
   ]
  },
  {
   "cell_type": "markdown",
   "metadata": {},
   "source": [
    "### Теорема 80.3\n",
    "\n",
    "Ранг линейного оператора равен рангу его матрицы в произвольном базисе.\n",
    "\n",
    "### Доказательство\n",
    "\n",
    "$ \\text{rg} \\space \\mathcal A = \\text{rg} \\space \\text{im} \\space \\mathcal A = \\text{rg} \\space \\mathcal L(e_1, \\dots, e_n) $, а $ \\text{rg} \\space \\mathcal L(e_1, \\dots, e_n) $ совпадает с рангом системы векторов, составленных из координат этих векторов в базисе $ f $ пространства $ f $, то есть рангом столюцов матрицы $ A_{fe} $.\n",
    "\n",
    "Profit"
   ]
  },
  {
   "cell_type": "markdown",
   "metadata": {},
   "source": [
    "### Теорема 80.4\n",
    "\n",
    "Если $ \\mathcal{A \\in L}(V, W) $, то $ \\text{rg} \\space \\mathcal A + \\ker \\mathcal A = \\dim V $\n",
    "\n",
    "### Доказательство\n",
    "\n",
    "Построим базис $ \\ker \\mathcal A \\space e_1, \\dots, e_k $, дополним его до базиса $ V \\space e_1, \\dots, e_k, e_{k + 1}, \\dots, e_n $.  \n",
    "$ \\dim \\mathcal A = \\dim \\mathcal L (e_1, \\dots, e_k, e_{k + 1}, \\dots, e_n) = \\dim \\mathcal L (e_{k + 1}, \\dots, e_n) = n - k $, т.к. вектора $ e_{k + 1}, \\dots, e_n $ линейно независимы (в силу сохранения оператором линейной независимости), а $ \\dim \\ker \\mathcal A = k = \\text{def} \\space \\mathcal A \\Rightarrow \\text{rg} \\space \\mathcal A + \\ker \\mathcal A = n = \\dim V $"
   ]
  },
  {
   "cell_type": "markdown",
   "metadata": {},
   "source": [
    "### Теорема 80.5\n",
    "\n",
    "Множество всех проообразов вектора $ y \\in \\text{im} \\space \\mathcal A $ является линейным многообразием с направляющим подпространством $ \\ker \\mathcal A $\n",
    "\n",
    "### Доказательство\n",
    "\n",
    "Надо доказать двустороннюю вложенность множеств $ K = \\{ x \\in V | \\mathcal A x = y \\} $ и $ H = x_0 + \\ker \\mathcal A $, где $ \\mathcal A x_0 = y $"
   ]
  },
  {
   "cell_type": "markdown",
   "metadata": {},
   "source": [
    "### Теорема 80.5\n",
    "\n",
    "Пусть $ \\mathcal{A \\in L}(V, W), \\text{rg} \\space \\mathcal A = r, \\dim \\mathcal A = n, \\dim W = m $. Тогда существуют базисы $ e, f $ пространств $ V, W $, в которых оператор $ \\mathcal A $ имеет матрицу $  I_r \\in P^{m \\times n}$ вида\n",
    "\n",
    "$$ I_r = \\left[\\begin{array}{cccc|c} 1 & 0 & \\cdots & 0 & \\newline 0 & 1 & \\cdots & 0 &  0 \\newline \\vdots & \\vdots & \\ddots & \\vdots & \\newline 0 & 0 & \\cdots & 1 & \\newline \\hline & 0 &&& 0 \\end{array}\\right] $$\n",
    "\n",
    "### Доказательство\n",
    "\n",
    "Так как любая матрица ранга $ r $ подобна такой матрице, матрица оператора подобна этой матрице и, следовательно, существует базисы пространств $ V, W $, в которых матрица оператора имеет такой вид."
   ]
  }
 ],
 "metadata": {
  "kernelspec": {
   "display_name": "Python 3",
   "language": "python",
   "name": "python3"
  },
  "language_info": {
   "codemirror_mode": {
    "name": "ipython",
    "version": 3
   },
   "file_extension": ".py",
   "mimetype": "text/x-python",
   "name": "python",
   "nbconvert_exporter": "python",
   "pygments_lexer": "ipython3",
   "version": "3.7.4"
  }
 },
 "nbformat": 4,
 "nbformat_minor": 4
}
